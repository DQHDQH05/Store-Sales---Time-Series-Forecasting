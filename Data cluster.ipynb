{
 "cells": [
  {
   "cell_type": "markdown",
   "id": "subject-buying",
   "metadata": {},
   "source": [
    "# Shuqi Lin -- 6.26"
   ]
  },
  {
   "cell_type": "code",
   "execution_count": 1,
   "id": "worldwide-answer",
   "metadata": {},
   "outputs": [],
   "source": [
    "#%% 1. Packages\n",
    "import numpy as np\n",
    "import pandas as pd\n",
    "import os\n",
    "import gc\n",
    "import warnings\n",
    "\n",
    "# PACF - ACF\n",
    "# ------------------------------------------------------\n",
    "import statsmodels.api as sm\n",
    "\n",
    "# DATA VISUALIZATION\n",
    "# ------------------------------------------------------\n",
    "import matplotlib.pyplot as plt\n",
    "import seaborn as sns\n",
    "import plotly.express as px\n"
   ]
  },
  {
   "cell_type": "code",
   "execution_count": 4,
   "id": "prostate-template",
   "metadata": {},
   "outputs": [],
   "source": [
    "# CONFIGURATIONS\n",
    "# ------------------------------------------------------\n",
    "pd.set_option('display.max_columns', None)\n",
    "pd.options.display.float_format = '{:.2f}'.format\n",
    "warnings.filterwarnings('ignore')"
   ]
  },
  {
   "cell_type": "code",
   "execution_count": 8,
   "id": "finite-white",
   "metadata": {},
   "outputs": [],
   "source": [
    "# 2. Import Data\n",
    "## Make sure you are under the folder with all datasets\n",
    "train=pd.read_csv('train_clean_Ziyi.csv')\n",
    "train.drop('Unnamed: 0',axis=1,inplace=True)\n",
    "test = pd.read_csv(\"test.csv\",parse_dates=['date'])\n",
    "stores = pd.read_csv(\"stores.csv\")\n",
    "#sub = pd.read_csv(\"../input/store-sales-time-series-forecasting/sample_submission.csv\")   \n",
    "transactions = pd.read_csv(\"transactions.csv\",parse_dates=['date']).sort_values([\"store_nbr\", \"date\"])"
   ]
  },
  {
   "cell_type": "code",
   "execution_count": 9,
   "id": "vocal-romania",
   "metadata": {},
   "outputs": [],
   "source": [
    "os.chdir('.\\\\clustered training data')\n",
    "n_clusters = len(stores['cluster'].unique())\n",
    "for i in range(n_clusters):\n",
    "    cluster_df=d.loc[d['store_nbr'].isin(list(stores.iloc[list(stores.groupby('cluster').groups[i+1])]['store_nbr']))]\n",
    "    cluster_df.to_csv('cluster_'+str(i+1)+'.csv',index=False)\n",
    "\n",
    "os.chdir('..\\\\clustered testing data')\n",
    "for i in range(n_clusters):\n",
    "    cluster_df=test.loc[test['store_nbr'].isin(list(stores.iloc[list(stores.groupby('cluster').groups[i+1])]['store_nbr']))]\n",
    "    cluster_df.to_csv('cluster_'+str(i+1)+'.csv',index=False)"
   ]
  },
  {
   "cell_type": "code",
   "execution_count": null,
   "id": "further-receiver",
   "metadata": {},
   "outputs": [],
   "source": []
  }
 ],
 "metadata": {
  "kernelspec": {
   "display_name": "Python 3",
   "language": "python",
   "name": "python3"
  },
  "language_info": {
   "codemirror_mode": {
    "name": "ipython",
    "version": 3
   },
   "file_extension": ".py",
   "mimetype": "text/x-python",
   "name": "python",
   "nbconvert_exporter": "python",
   "pygments_lexer": "ipython3",
   "version": "3.8.7"
  }
 },
 "nbformat": 4,
 "nbformat_minor": 5
}
